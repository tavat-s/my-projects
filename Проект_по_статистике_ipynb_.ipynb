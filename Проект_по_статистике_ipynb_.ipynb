{
  "nbformat": 4,
  "nbformat_minor": 0,
  "metadata": {
    "colab": {
      "provenance": []
    },
    "kernelspec": {
      "name": "python3",
      "display_name": "Python 3"
    },
    "language_info": {
      "name": "python"
    }
  },
  "cells": [
    {
      "cell_type": "code",
      "execution_count": null,
      "metadata": {
        "id": "NSvGCPll477r"
      },
      "outputs": [],
      "source": [
        "import pandas as pd\n",
        "import numpy as np\n",
        "import scipy.stats\n",
        "from scipy.stats import ttest_ind\n",
        "from scipy.stats import ttest_rel\n",
        "import seaborn as sns\n",
        "import matplotlib.pyplot as plt"
      ]
    },
    {
      "cell_type": "code",
      "source": [
        "from google.colab import drive\n",
        "drive.mount('/content/gdrive')"
      ],
      "metadata": {
        "colab": {
          "base_uri": "https://localhost:8080/"
        },
        "id": "BjoxCaIpWTys",
        "outputId": "d3acf669-1fb9-4506-fcd3-3c9e865a9ee6"
      },
      "execution_count": null,
      "outputs": [
        {
          "output_type": "stream",
          "name": "stdout",
          "text": [
            "Drive already mounted at /content/gdrive; to attempt to forcibly remount, call drive.mount(\"/content/gdrive\", force_remount=True).\n"
          ]
        }
      ]
    },
    {
      "cell_type": "markdown",
      "source": [
        "#Задача 1\n",
        "\n",
        "Менеджер сайта, предоставляющего независимым продавцам площадку для\n",
        "продаж, решил провести АБ-тест, выбрав в качестве метрики время обработки\n",
        "заказов продавцами. Для контрольной группы продавцов оставили предыдущий\n",
        "интерфейс работы с заказами, а для тестовой группы внедрили интерактивный\n",
        "дэшборд заказов.\n",
        "Полученные результаты времени обработки заказов в часах для тестовой и\n",
        "контрольной групп представлены в csv-файлах time_order_processing_test.csv и\n",
        "time_order_processing_control.csv.\n",
        "Проверьте гипотезу менеджера о том, что использование интерактивного\n",
        "дэшборда уменьшило время обработки заказов.\n",
        "Подсказка: это независимые выборки."
      ],
      "metadata": {
        "id": "j5qOZTg3iOlO"
      }
    },
    {
      "cell_type": "markdown",
      "source": [
        "H0: mu_control - mu_test = 0\n",
        "\n",
        "H1: mu_control - mu_test > 0"
      ],
      "metadata": {
        "id": "hzc7FK2Yhupj"
      }
    },
    {
      "cell_type": "code",
      "source": [
        "control = pd.read_csv('/time_order_processing_control.csv')\n",
        "test = pd.read_csv('/time_order_processing_test.csv')"
      ],
      "metadata": {
        "id": "yc1dY2WP6SE_"
      },
      "execution_count": null,
      "outputs": []
    },
    {
      "cell_type": "code",
      "source": [
        "plt.hist(test['time'], alpha=0.5, label='Test group')\n",
        "plt.hist(control['time'], alpha=0.5, label='Control group')\n",
        "plt.legend(loc='upper right')\n",
        "plt.show()"
      ],
      "metadata": {
        "colab": {
          "base_uri": "https://localhost:8080/",
          "height": 430
        },
        "id": "f7BeUmv_-naC",
        "outputId": "7c88db04-f8a8-4904-f86c-efb942c4708a"
      },
      "execution_count": null,
      "outputs": [
        {
          "output_type": "display_data",
          "data": {
            "text/plain": [
              "<Figure size 640x480 with 1 Axes>"
            ],
            "image/png": "[encoded data removed]"
          },
          "metadata": {}
        }
      ]
    },
    {
      "cell_type": "code",
      "source": [
        "scipy.stats.ttest_ind(control['time'], test['time'], axis=0, equal_var=True, nan_policy='propagate', permutations=None, random_state=None, alternative='greater', trim=0)"
      ],
      "metadata": {
        "colab": {
          "base_uri": "https://localhost:8080/"
        },
        "id": "eBa5EVRGhqc2",
        "outputId": "7f2a7775-1802-4951-c5ac-9f11b695818b"
      },
      "execution_count": null,
      "outputs": [
        {
          "output_type": "execute_result",
          "data": {
            "text/plain": [
              "Ttest_indResult(statistic=40.01055525962125, pvalue=2.9949647128013707e-277)"
            ]
          },
          "metadata": {},
          "execution_count": 5
        }
      ]
    },
    {
      "cell_type": "markdown",
      "source": [
        "P_value < 1%, нулевая гипотеза отвергается при 1% уровне значимости. В тестовой группе сократилось время обработки заказов."
      ],
      "metadata": {
        "id": "voWONxEch_pQ"
      }
    },
    {
      "cell_type": "markdown",
      "source": [
        "#Задача 2\n",
        "\n",
        "Этот же маркетплейс предоставил с 1 мая часто заказывающим клиентам\n",
        "бесплатную доставку, действующую для всех заказов до конца календарного\n",
        "месяца, если в этом месяце клиент уже сделал пять заказов (то есть начиная с шестого заказа).\n",
        "В файле clients_orders.csv представлена информация о количестве заказов,\n",
        "которое тысяча случайно отобранных часто заказывающих клиентов сделали в\n",
        "апреле и мае.\n",
        "Проверьте гипотезу о том, что клиенты стали делать больше заказов после\n",
        "введения бесплатной доставки с шестого заказа.\n",
        "Подсказка: это зависимая (парная) выборка."
      ],
      "metadata": {
        "id": "50ac3pVfALwv"
      }
    },
    {
      "cell_type": "markdown",
      "source": [
        "H0: mu_may - mu_april = 0\n",
        "\n",
        "H1: mu_may - mu_april > 0"
      ],
      "metadata": {
        "id": "xUv_btvCimIf"
      }
    },
    {
      "cell_type": "code",
      "source": [
        "orders = pd.read_csv('/clients_orders.csv')\n",
        "orders['diff'] = orders['orders_may'] - orders['orders_april']"
      ],
      "metadata": {
        "id": "K2GhDOdTAQAK"
      },
      "execution_count": null,
      "outputs": []
    },
    {
      "cell_type": "code",
      "source": [
        "plt.hist(orders['orders_april'], alpha=0.5, label='April')\n",
        "plt.hist(orders['orders_may'], alpha=0.5, label='May')\n",
        "plt.legend(loc='upper right')\n",
        "plt.show()"
      ],
      "metadata": {
        "colab": {
          "base_uri": "https://localhost:8080/",
          "height": 430
        },
        "id": "Uax_4o0WAugh",
        "outputId": "11acc04f-c549-4eb4-99b5-8321618c7b05"
      },
      "execution_count": null,
      "outputs": [
        {
          "output_type": "display_data",
          "data": {
            "text/plain": [
              "<Figure size 640x480 with 1 Axes>"
            ],
            "image/png": "[encoded data removed]"
          },
          "metadata": {}
        }
      ]
    },
    {
      "cell_type": "code",
      "source": [
        "plt.hist(orders['diff'], alpha=0.5, label='Diff')\n",
        "plt.legend(loc='upper right')\n",
        "plt.show()"
      ],
      "metadata": {
        "colab": {
          "base_uri": "https://localhost:8080/",
          "height": 430
        },
        "id": "qedyzogkBgML",
        "outputId": "12aad950-a080-4cfc-f222-8404f65966ed"
      },
      "execution_count": null,
      "outputs": [
        {
          "output_type": "display_data",
          "data": {
            "text/plain": [
              "<Figure size 640x480 with 1 Axes>"
            ],
            "image/png": "[encoded data removed]"
          },
          "metadata": {}
        }
      ]
    },
    {
      "cell_type": "code",
      "source": [
        "scipy.stats.mstats.ttest_onesamp(orders['diff'], popmean=0, axis=0, alternative='greater')"
      ],
      "metadata": {
        "colab": {
          "base_uri": "https://localhost:8080/"
        },
        "id": "KuDIB6jxCMV7",
        "outputId": "50c7e4fc-1f61-4579-8946-797d03b58b2a"
      },
      "execution_count": null,
      "outputs": [
        {
          "output_type": "execute_result",
          "data": {
            "text/plain": [
              "Ttest_1sampResult(statistic=18.171999762294778, pvalue=2.8066025158955254e-64)"
            ]
          },
          "metadata": {},
          "execution_count": 9
        }
      ]
    },
    {
      "cell_type": "code",
      "source": [
        "t_stat, p_value = ttest_rel(orders['orders_may'], orders['orders_april'], alternative='greater')\n",
        "print(p_value)"
      ],
      "metadata": {
        "colab": {
          "base_uri": "https://localhost:8080/"
        },
        "id": "XmvGwgKDCezI",
        "outputId": "005ff205-f5a2-4eec-b03c-f710fbba2e83"
      },
      "execution_count": null,
      "outputs": [
        {
          "output_type": "stream",
          "name": "stdout",
          "text": [
            "2.8066025158955254e-64\n"
          ]
        }
      ]
    },
    {
      "cell_type": "markdown",
      "source": [
        "P_value < 1%, нулевая гипотеза отвергается при 1% уровне значимости. В мае увеличилось количество заказов."
      ],
      "metadata": {
        "id": "C4cWS77riXJY"
      }
    },
    {
      "cell_type": "markdown",
      "source": [
        "#Задача 3\n",
        "\n",
        "В файле vendors.csv представлена анонимизированная информация о\n",
        "продавцах маркетплейса: тип продукции ( goods ) и время осуществления\n",
        "продаж через этот маркетплейс ( experience ).\n",
        "Проверьте гипотезу о том, что стаж продаж на маркетплейсе не зависит от типа реализуемой продукции."
      ],
      "metadata": {
        "id": "gaj9bIfXFN2t"
      }
    },
    {
      "cell_type": "markdown",
      "source": [
        "H0: тип реализуемой продукции и стаж продаж независимы\n",
        "\n",
        "H1: тип реализуемой продукции и стаж продаж зависимы"
      ],
      "metadata": {
        "id": "OvkyNsUOj_R2"
      }
    },
    {
      "cell_type": "code",
      "source": [
        "vendors = pd.read_csv('/vendors.csv')\n",
        "vendors"
      ],
      "metadata": {
        "colab": {
          "base_uri": "https://localhost:8080/",
          "height": 424
        },
        "id": "fBP-XuAyFQDu",
        "outputId": "2273551a-939d-415d-d3ac-95c5c3ea2eee"
      },
      "execution_count": null,
      "outputs": [
        {
          "output_type": "execute_result",
          "data": {
            "text/plain": [
              "     Unnamed: 0        goods experience\n",
              "0             0       beauty         5-\n",
              "1             1       beauty        1-3\n",
              "2             2  electronics        3-5\n",
              "3             3      outdoor        1-3\n",
              "4             4      clothes        3-5\n",
              "..          ...          ...        ...\n",
              "513         513       beauty        1-3\n",
              "514         514      outdoor        1-3\n",
              "515         515      outdoor        0-1\n",
              "516         516  electronics        1-3\n",
              "517         517  electronics        1-3\n",
              "\n",
              "[518 rows x 3 columns]"
            ],
            "text/html": [
              "\n",
              "  <div id=\"df-5beeb6b1-4144-4f9a-b35d-d61d1e9e19cf\">\n",
              "    <div class=\"colab-df-container\">\n",
              "      <div>\n",
              "<style scoped>\n",
              "    .dataframe tbody tr th:only-of-type {\n",
              "        vertical-align: middle;\n",
              "    }\n",
              "\n",
              "    .dataframe tbody tr th {\n",
              "        vertical-align: top;\n",
              "    }\n",
              "\n",
              "    .dataframe thead th {\n",
              "        text-align: right;\n",
              "    }\n",
              "</style>\n",
              "<table border=\"1\" class=\"dataframe\">\n",
              "  <thead>\n",
              "    <tr style=\"text-align: right;\">\n",
              "      <th></th>\n",
              "      <th>Unnamed: 0</th>\n",
              "      <th>goods</th>\n",
              "      <th>experience</th>\n",
              "    </tr>\n",
              "  </thead>\n",
              "  <tbody>\n",
              "    <tr>\n",
              "      <th>0</th>\n",
              "      <td>0</td>\n",
              "      <td>beauty</td>\n",
              "      <td>5-</td>\n",
              "    </tr>\n",
              "    <tr>\n",
              "      <th>1</th>\n",
              "      <td>1</td>\n",
              "      <td>beauty</td>\n",
              "      <td>1-3</td>\n",
              "    </tr>\n",
              "    <tr>\n",
              "      <th>2</th>\n",
              "      <td>2</td>\n",
              "      <td>electronics</td>\n",
              "      <td>3-5</td>\n",
              "    </tr>\n",
              "    <tr>\n",
              "      <th>3</th>\n",
              "      <td>3</td>\n",
              "      <td>outdoor</td>\n",
              "      <td>1-3</td>\n",
              "    </tr>\n",
              "    <tr>\n",
              "      <th>4</th>\n",
              "      <td>4</td>\n",
              "      <td>clothes</td>\n",
              "      <td>3-5</td>\n",
              "    </tr>\n",
              "    <tr>\n",
              "      <th>...</th>\n",
              "      <td>...</td>\n",
              "      <td>...</td>\n",
              "      <td>...</td>\n",
              "    </tr>\n",
              "    <tr>\n",
              "      <th>513</th>\n",
              "      <td>513</td>\n",
              "      <td>beauty</td>\n",
              "      <td>1-3</td>\n",
              "    </tr>\n",
              "    <tr>\n",
              "      <th>514</th>\n",
              "      <td>514</td>\n",
              "      <td>outdoor</td>\n",
              "      <td>1-3</td>\n",
              "    </tr>\n",
              "    <tr>\n",
              "      <th>515</th>\n",
              "      <td>515</td>\n",
              "      <td>outdoor</td>\n",
              "      <td>0-1</td>\n",
              "    </tr>\n",
              "    <tr>\n",
              "      <th>516</th>\n",
              "      <td>516</td>\n",
              "      <td>electronics</td>\n",
              "      <td>1-3</td>\n",
              "    </tr>\n",
              "    <tr>\n",
              "      <th>517</th>\n",
              "      <td>517</td>\n",
              "      <td>electronics</td>\n",
              "      <td>1-3</td>\n",
              "    </tr>\n",
              "  </tbody>\n",
              "</table>\n",
              "<p>518 rows × 3 columns</p>\n",
              "</div>\n",
              "      <button class=\"colab-df-convert\" onclick=\"convertToInteractive('df-5beeb6b1-4144-4f9a-b35d-d61d1e9e19cf')\"\n",
              "              title=\"Convert this dataframe to an interactive table.\"\n",
              "              style=\"display:none;\">\n",
              "        \n",
              "  <svg xmlns=\"http://www.w3.org/2000/svg\" height=\"24px\"viewBox=\"0 0 24 24\"\n",
              "       width=\"24px\">\n",
              "    <path d=\"M0 0h24v24H0V0z\" fill=\"none\"/>\n",
              "    <path d=\"M18.56 5.44l.94 2.06.94-2.06 2.06-.94-2.06-.94-.94-2.06-.94 2.06-2.06.94zm-11 1L8.5 8.5l.94-2.06 2.06-.94-2.06-.94L8.5 2.5l-.94 2.06-2.06.94zm10 10l.94 2.06.94-2.06 2.06-.94-2.06-.94-.94-2.06-.94 2.06-2.06.94z\"/><path d=\"M17.41 7.96l-1.37-1.37c-.4-.4-.92-.59-1.43-.59-.52 0-1.04.2-1.43.59L10.3 9.45l-7.72 7.72c-.78.78-.78 2.05 0 2.83L4 21.41c.39.39.9.59 1.41.59.51 0 1.02-.2 1.41-.59l7.78-7.78 2.81-2.81c.8-.78.8-2.07 0-2.86zM5.41 20L4 18.59l7.72-7.72 1.47 1.35L5.41 20z\"/>\n",
              "  </svg>\n",
              "      </button>\n",
              "      \n",
              "  <style>\n",
              "    .colab-df-container {\n",
              "      display:flex;\n",
              "      flex-wrap:wrap;\n",
              "      gap: 12px;\n",
              "    }\n",
              "\n",
              "    .colab-df-convert {\n",
              "      background-color: #E8F0FE;\n",
              "      border: none;\n",
              "      border-radius: 50%;\n",
              "      cursor: pointer;\n",
              "      display: none;\n",
              "      fill: #1967D2;\n",
              "      height: 32px;\n",
              "      padding: 0 0 0 0;\n",
              "      width: 32px;\n",
              "    }\n",
              "\n",
              "    .colab-df-convert:hover {\n",
              "      background-color: #E2EBFA;\n",
              "      box-shadow: 0px 1px 2px rgba(60, 64, 67, 0.3), 0px 1px 3px 1px rgba(60, 64, 67, 0.15);\n",
              "      fill: #174EA6;\n",
              "    }\n",
              "\n",
              "    [theme=dark] .colab-df-convert {\n",
              "      background-color: #3B4455;\n",
              "      fill: #D2E3FC;\n",
              "    }\n",
              "\n",
              "    [theme=dark] .colab-df-convert:hover {\n",
              "      background-color: #434B5C;\n",
              "      box-shadow: 0px 1px 3px 1px rgba(0, 0, 0, 0.15);\n",
              "      filter: drop-shadow(0px 1px 2px rgba(0, 0, 0, 0.3));\n",
              "      fill: #FFFFFF;\n",
              "    }\n",
              "  </style>\n",
              "\n",
              "      <script>\n",
              "        const buttonEl =\n",
              "          document.querySelector('#df-5beeb6b1-4144-4f9a-b35d-d61d1e9e19cf button.colab-df-convert');\n",
              "        buttonEl.style.display =\n",
              "          google.colab.kernel.accessAllowed ? 'block' : 'none';\n",
              "\n",
              "        async function convertToInteractive(key) {\n",
              "          const element = document.querySelector('#df-5beeb6b1-4144-4f9a-b35d-d61d1e9e19cf');\n",
              "          const dataTable =\n",
              "            await google.colab.kernel.invokeFunction('convertToInteractive',\n",
              "                                                     [key], {});\n",
              "          if (!dataTable) return;\n",
              "\n",
              "          const docLinkHtml = 'Like what you see? Visit the ' +\n",
              "            '<a target=\"_blank\" href=https://colab.research.google.com/notebooks/data_table.ipynb>data table notebook</a>'\n",
              "            + ' to learn more about interactive tables.';\n",
              "          element.innerHTML = '';\n",
              "          dataTable['output_type'] = 'display_data';\n",
              "          await google.colab.output.renderOutput(dataTable, element);\n",
              "          const docLink = document.createElement('div');\n",
              "          docLink.innerHTML = docLinkHtml;\n",
              "          element.appendChild(docLink);\n",
              "        }\n",
              "      </script>\n",
              "    </div>\n",
              "  </div>\n",
              "  "
            ]
          },
          "metadata": {},
          "execution_count": 11
        }
      ]
    },
    {
      "cell_type": "code",
      "source": [
        "sns.countplot(x='goods', hue='experience', data=vendors)\n",
        "plt.show()"
      ],
      "metadata": {
        "colab": {
          "base_uri": "https://localhost:8080/",
          "height": 449
        },
        "id": "GzKLetCYGA9i",
        "outputId": "31320b9a-e5d7-4f15-e08e-695a3d0a8e2b"
      },
      "execution_count": null,
      "outputs": [
        {
          "output_type": "display_data",
          "data": {
            "text/plain": [
              "<Figure size 640x480 with 1 Axes>"
            ],
            "image/png": "[encoded data removed]"
          },
          "metadata": {}
        }
      ]
    },
    {
      "cell_type": "code",
      "source": [
        "data = pd.pivot_table(vendors, values = 'goods', index='goods', columns='experience', aggfunc='count')\n",
        "data['Totals'] = data['0-1']+data['1-3']+data['3-5']+data['5-']\n",
        "data.loc['Totals'] = data.sum()\n",
        "data['goods_share'] = data['Totals'] / data.loc['Totals', 'Totals']\n",
        "data.loc['exp_share'] = data.loc['Totals'] / data.loc['Totals', 'Totals']\n",
        "data"
      ],
      "metadata": {
        "colab": {
          "base_uri": "https://localhost:8080/",
          "height": 300
        },
        "id": "VJVk70cXGaCN",
        "outputId": "3d61fd38-363a-468d-f9ff-55f6567294f3"
      },
      "execution_count": null,
      "outputs": [
        {
          "output_type": "execute_result",
          "data": {
            "text/plain": [
              "experience         0-1         1-3        3-5         5-  Totals  goods_share\n",
              "goods                                                                        \n",
              "beauty        28.00000   43.000000  13.000000  15.000000    99.0     0.191120\n",
              "clothes       57.00000   78.000000  29.000000  27.000000   191.0     0.368726\n",
              "electronics   44.00000   56.000000  19.000000  19.000000   138.0     0.266409\n",
              "outdoor       22.00000   29.000000   6.000000  13.000000    70.0     0.135135\n",
              "pets           8.00000    9.000000   2.000000   1.000000    20.0     0.038610\n",
              "Totals       159.00000  215.000000  69.000000  75.000000   518.0     1.000000\n",
              "exp_share      0.30695    0.415058   0.133205   0.144788     1.0     0.001931"
            ],
            "text/html": [
              "\n",
              "  <div id=\"df-cf5d9a46-449e-42a8-bb8e-5e125abb306a\">\n",
              "    <div class=\"colab-df-container\">\n",
              "      <div>\n",
              "<style scoped>\n",
              "    .dataframe tbody tr th:only-of-type {\n",
              "        vertical-align: middle;\n",
              "    }\n",
              "\n",
              "    .dataframe tbody tr th {\n",
              "        vertical-align: top;\n",
              "    }\n",
              "\n",
              "    .dataframe thead th {\n",
              "        text-align: right;\n",
              "    }\n",
              "</style>\n",
              "<table border=\"1\" class=\"dataframe\">\n",
              "  <thead>\n",
              "    <tr style=\"text-align: right;\">\n",
              "      <th>experience</th>\n",
              "      <th>0-1</th>\n",
              "      <th>1-3</th>\n",
              "      <th>3-5</th>\n",
              "      <th>5-</th>\n",
              "      <th>Totals</th>\n",
              "      <th>goods_share</th>\n",
              "    </tr>\n",
              "    <tr>\n",
              "      <th>goods</th>\n",
              "      <th></th>\n",
              "      <th></th>\n",
              "      <th></th>\n",
              "      <th></th>\n",
              "      <th></th>\n",
              "      <th></th>\n",
              "    </tr>\n",
              "  </thead>\n",
              "  <tbody>\n",
              "    <tr>\n",
              "      <th>beauty</th>\n",
              "      <td>28.00000</td>\n",
              "      <td>43.000000</td>\n",
              "      <td>13.000000</td>\n",
              "      <td>15.000000</td>\n",
              "      <td>99.0</td>\n",
              "      <td>0.191120</td>\n",
              "    </tr>\n",
              "    <tr>\n",
              "      <th>clothes</th>\n",
              "      <td>57.00000</td>\n",
              "      <td>78.000000</td>\n",
              "      <td>29.000000</td>\n",
              "      <td>27.000000</td>\n",
              "      <td>191.0</td>\n",
              "      <td>0.368726</td>\n",
              "    </tr>\n",
              "    <tr>\n",
              "      <th>electronics</th>\n",
              "      <td>44.00000</td>\n",
              "      <td>56.000000</td>\n",
              "      <td>19.000000</td>\n",
              "      <td>19.000000</td>\n",
              "      <td>138.0</td>\n",
              "      <td>0.266409</td>\n",
              "    </tr>\n",
              "    <tr>\n",
              "      <th>outdoor</th>\n",
              "      <td>22.00000</td>\n",
              "      <td>29.000000</td>\n",
              "      <td>6.000000</td>\n",
              "      <td>13.000000</td>\n",
              "      <td>70.0</td>\n",
              "      <td>0.135135</td>\n",
              "    </tr>\n",
              "    <tr>\n",
              "      <th>pets</th>\n",
              "      <td>8.00000</td>\n",
              "      <td>9.000000</td>\n",
              "      <td>2.000000</td>\n",
              "      <td>1.000000</td>\n",
              "      <td>20.0</td>\n",
              "      <td>0.038610</td>\n",
              "    </tr>\n",
              "    <tr>\n",
              "      <th>Totals</th>\n",
              "      <td>159.00000</td>\n",
              "      <td>215.000000</td>\n",
              "      <td>69.000000</td>\n",
              "      <td>75.000000</td>\n",
              "      <td>518.0</td>\n",
              "      <td>1.000000</td>\n",
              "    </tr>\n",
              "    <tr>\n",
              "      <th>exp_share</th>\n",
              "      <td>0.30695</td>\n",
              "      <td>0.415058</td>\n",
              "      <td>0.133205</td>\n",
              "      <td>0.144788</td>\n",
              "      <td>1.0</td>\n",
              "      <td>0.001931</td>\n",
              "    </tr>\n",
              "  </tbody>\n",
              "</table>\n",
              "</div>\n",
              "      <button class=\"colab-df-convert\" onclick=\"convertToInteractive('df-cf5d9a46-449e-42a8-bb8e-5e125abb306a')\"\n",
              "              title=\"Convert this dataframe to an interactive table.\"\n",
              "              style=\"display:none;\">\n",
              "        \n",
              "  <svg xmlns=\"http://www.w3.org/2000/svg\" height=\"24px\"viewBox=\"0 0 24 24\"\n",
              "       width=\"24px\">\n",
              "    <path d=\"M0 0h24v24H0V0z\" fill=\"none\"/>\n",
              "    <path d=\"M18.56 5.44l.94 2.06.94-2.06 2.06-.94-2.06-.94-.94-2.06-.94 2.06-2.06.94zm-11 1L8.5 8.5l.94-2.06 2.06-.94-2.06-.94L8.5 2.5l-.94 2.06-2.06.94zm10 10l.94 2.06.94-2.06 2.06-.94-2.06-.94-.94-2.06-.94 2.06-2.06.94z\"/><path d=\"M17.41 7.96l-1.37-1.37c-.4-.4-.92-.59-1.43-.59-.52 0-1.04.2-1.43.59L10.3 9.45l-7.72 7.72c-.78.78-.78 2.05 0 2.83L4 21.41c.39.39.9.59 1.41.59.51 0 1.02-.2 1.41-.59l7.78-7.78 2.81-2.81c.8-.78.8-2.07 0-2.86zM5.41 20L4 18.59l7.72-7.72 1.47 1.35L5.41 20z\"/>\n",
              "  </svg>\n",
              "      </button>\n",
              "      \n",
              "  <style>\n",
              "    .colab-df-container {\n",
              "      display:flex;\n",
              "      flex-wrap:wrap;\n",
              "      gap: 12px;\n",
              "    }\n",
              "\n",
              "    .colab-df-convert {\n",
              "      background-color: #E8F0FE;\n",
              "      border: none;\n",
              "      border-radius: 50%;\n",
              "      cursor: pointer;\n",
              "      display: none;\n",
              "      fill: #1967D2;\n",
              "      height: 32px;\n",
              "      padding: 0 0 0 0;\n",
              "      width: 32px;\n",
              "    }\n",
              "\n",
              "    .colab-df-convert:hover {\n",
              "      background-color: #E2EBFA;\n",
              "      box-shadow: 0px 1px 2px rgba(60, 64, 67, 0.3), 0px 1px 3px 1px rgba(60, 64, 67, 0.15);\n",
              "      fill: #174EA6;\n",
              "    }\n",
              "\n",
              "    [theme=dark] .colab-df-convert {\n",
              "      background-color: #3B4455;\n",
              "      fill: #D2E3FC;\n",
              "    }\n",
              "\n",
              "    [theme=dark] .colab-df-convert:hover {\n",
              "      background-color: #434B5C;\n",
              "      box-shadow: 0px 1px 3px 1px rgba(0, 0, 0, 0.15);\n",
              "      filter: drop-shadow(0px 1px 2px rgba(0, 0, 0, 0.3));\n",
              "      fill: #FFFFFF;\n",
              "    }\n",
              "  </style>\n",
              "\n",
              "      <script>\n",
              "        const buttonEl =\n",
              "          document.querySelector('#df-cf5d9a46-449e-42a8-bb8e-5e125abb306a button.colab-df-convert');\n",
              "        buttonEl.style.display =\n",
              "          google.colab.kernel.accessAllowed ? 'block' : 'none';\n",
              "\n",
              "        async function convertToInteractive(key) {\n",
              "          const element = document.querySelector('#df-cf5d9a46-449e-42a8-bb8e-5e125abb306a');\n",
              "          const dataTable =\n",
              "            await google.colab.kernel.invokeFunction('convertToInteractive',\n",
              "                                                     [key], {});\n",
              "          if (!dataTable) return;\n",
              "\n",
              "          const docLinkHtml = 'Like what you see? Visit the ' +\n",
              "            '<a target=\"_blank\" href=https://colab.research.google.com/notebooks/data_table.ipynb>data table notebook</a>'\n",
              "            + ' to learn more about interactive tables.';\n",
              "          element.innerHTML = '';\n",
              "          dataTable['output_type'] = 'display_data';\n",
              "          await google.colab.output.renderOutput(dataTable, element);\n",
              "          const docLink = document.createElement('div');\n",
              "          docLink.innerHTML = docLinkHtml;\n",
              "          element.appendChild(docLink);\n",
              "        }\n",
              "      </script>\n",
              "    </div>\n",
              "  </div>\n",
              "  "
            ]
          },
          "metadata": {},
          "execution_count": 13
        }
      ]
    },
    {
      "cell_type": "markdown",
      "source": [
        "Посчитаем ожидаемые значения, если переменные независимы:"
      ],
      "metadata": {
        "id": "9CufigWbkX6i"
      }
    },
    {
      "cell_type": "code",
      "source": [
        "goods = set(vendors['goods'])\n",
        "experience = set(vendors['experience'])\n",
        "data_expected = data\n",
        "data_expected = data_expected.drop(columns=['goods_share'])\n",
        "data_expected = data_expected.drop(['exp_share'])\n",
        "for i in goods:\n",
        "  for j in experience:\n",
        "    data_expected.loc[i,j] = data.loc[i, 'goods_share'] * data.loc['exp_share', j] * data.loc['Totals', 'Totals']\n",
        "data_expected"
      ],
      "metadata": {
        "colab": {
          "base_uri": "https://localhost:8080/",
          "height": 235
        },
        "id": "A53Q9jbgkYrw",
        "outputId": "547c5db9-13df-4d5d-89ea-337e995739e4"
      },
      "execution_count": null,
      "outputs": [
        {
          "output_type": "error",
          "ename": "NameError",
          "evalue": "ignored",
          "traceback": [
            "\u001b[0;31m---------------------------------------------------------------------------\u001b[0m",
            "\u001b[0;31mNameError\u001b[0m                                 Traceback (most recent call last)",
            "\u001b[0;32m<ipython-input-23-8be49a634042>\u001b[0m in \u001b[0;36m<cell line: 3>\u001b[0;34m()\u001b[0m\n\u001b[1;32m      1\u001b[0m \u001b[0mgoods\u001b[0m \u001b[0;34m=\u001b[0m \u001b[0mset\u001b[0m\u001b[0;34m(\u001b[0m\u001b[0mvendors\u001b[0m\u001b[0;34m[\u001b[0m\u001b[0;34m'goods'\u001b[0m\u001b[0;34m]\u001b[0m\u001b[0;34m)\u001b[0m\u001b[0;34m\u001b[0m\u001b[0;34m\u001b[0m\u001b[0m\n\u001b[1;32m      2\u001b[0m \u001b[0mexperience\u001b[0m \u001b[0;34m=\u001b[0m \u001b[0mset\u001b[0m\u001b[0;34m(\u001b[0m\u001b[0mvendors\u001b[0m\u001b[0;34m[\u001b[0m\u001b[0;34m'experience'\u001b[0m\u001b[0;34m]\u001b[0m\u001b[0;34m)\u001b[0m\u001b[0;34m\u001b[0m\u001b[0;34m\u001b[0m\u001b[0m\n\u001b[0;32m----> 3\u001b[0;31m \u001b[0mdata_expected\u001b[0m \u001b[0;34m=\u001b[0m \u001b[0mdata\u001b[0m\u001b[0;34m\u001b[0m\u001b[0;34m\u001b[0m\u001b[0m\n\u001b[0m\u001b[1;32m      4\u001b[0m \u001b[0mdata_expected\u001b[0m \u001b[0;34m=\u001b[0m \u001b[0mdata_expected\u001b[0m\u001b[0;34m.\u001b[0m\u001b[0mdrop\u001b[0m\u001b[0;34m(\u001b[0m\u001b[0mcolumns\u001b[0m\u001b[0;34m=\u001b[0m\u001b[0;34m[\u001b[0m\u001b[0;34m'goods_share'\u001b[0m\u001b[0;34m]\u001b[0m\u001b[0;34m)\u001b[0m\u001b[0;34m\u001b[0m\u001b[0;34m\u001b[0m\u001b[0m\n\u001b[1;32m      5\u001b[0m \u001b[0mdata_expected\u001b[0m \u001b[0;34m=\u001b[0m \u001b[0mdata_expected\u001b[0m\u001b[0;34m.\u001b[0m\u001b[0mdrop\u001b[0m\u001b[0;34m(\u001b[0m\u001b[0;34m[\u001b[0m\u001b[0;34m'exp_share'\u001b[0m\u001b[0;34m]\u001b[0m\u001b[0;34m)\u001b[0m\u001b[0;34m\u001b[0m\u001b[0;34m\u001b[0m\u001b[0m\n",
            "\u001b[0;31mNameError\u001b[0m: name 'data' is not defined"
          ]
        }
      ]
    },
    {
      "cell_type": "markdown",
      "source": [
        "Посчитаем статистику x-квадрат:"
      ],
      "metadata": {
        "id": "eANrDwPQori2"
      }
    },
    {
      "cell_type": "code",
      "source": [
        "sum_of_squares = 0\n",
        "\n",
        "for i in goods:\n",
        "  for j in experience:\n",
        "    sum_of_squares += (data.loc[i, j] - data_expected.loc[i, j])**2\n",
        "\n",
        "x_squared = sum_of_squares / (len(goods) * len(experience))\n",
        "x_squared"
      ],
      "metadata": {
        "colab": {
          "base_uri": "https://localhost:8080/"
        },
        "id": "Ips8No4cosOm",
        "outputId": "17817951-7be4-48b3-8b9b-1bb9ecff519f"
      },
      "execution_count": null,
      "outputs": [
        {
          "output_type": "execute_result",
          "data": {
            "text/plain": [
              "3.0185805220554247"
            ]
          },
          "metadata": {},
          "execution_count": 15
        }
      ]
    },
    {
      "cell_type": "markdown",
      "source": [
        "Критическое значение для x-квадрат при уровне статистической значимости 5% и количеством степеней свободы 12 равно 21.026.\n",
        "\n",
        "Т.к. рассчитанная статистика меньше, чем критическое значение: 3.019 < 21.026, то H0 не отвергается --> нет оснований полагать, что переменные зависимы."
      ],
      "metadata": {
        "id": "Cij90A83q88D"
      }
    },
    {
      "cell_type": "markdown",
      "source": [
        "# Повторный тест с объединенными группами\n",
        "\n",
        "Так как в некоторых ячейках ожидаемой таблицы есть значения меньше 5, то объединим две малые группы и проведем тест повторно:"
      ],
      "metadata": {
        "id": "q7ZwPLhKRhsx"
      }
    },
    {
      "cell_type": "code",
      "source": [
        "data_joined = pd.pivot_table(vendors, values = 'goods', index='goods', columns='experience', aggfunc='count')\n",
        "data_joined.loc['outdoor + pets'] = data_joined.loc[['outdoor', 'pets']].sum()\n",
        "data_joined = data_joined.drop(['outdoor', 'pets'])\n",
        "data_joined['Totals'] = data_joined['0-1']+data_joined['1-3']+data_joined['3-5']+data_joined['5-']\n",
        "data_joined.loc['Totals'] = data_joined.sum()\n",
        "data_joined['goods_share'] = data_joined['Totals'] / data_joined.loc['Totals', 'Totals']\n",
        "data_joined.loc['exp_share'] = data_joined.loc['Totals'] / data_joined.loc['Totals', 'Totals']\n",
        "data_joined"
      ],
      "metadata": {
        "id": "m_3zIV8sRliz",
        "colab": {
          "base_uri": "https://localhost:8080/",
          "height": 269
        },
        "outputId": "47f7f209-a341-43a3-db71-94406282bf68"
      },
      "execution_count": null,
      "outputs": [
        {
          "output_type": "execute_result",
          "data": {
            "text/plain": [
              "experience            0-1         1-3        3-5         5-  Totals  \\\n",
              "goods                                                                 \n",
              "beauty           28.00000   43.000000  13.000000  15.000000    99.0   \n",
              "clothes          57.00000   78.000000  29.000000  27.000000   191.0   \n",
              "electronics      44.00000   56.000000  19.000000  19.000000   138.0   \n",
              "outdoor + pets   30.00000   38.000000   8.000000  14.000000    90.0   \n",
              "Totals          159.00000  215.000000  69.000000  75.000000   518.0   \n",
              "exp_share         0.30695    0.415058   0.133205   0.144788     1.0   \n",
              "\n",
              "experience      goods_share  \n",
              "goods                        \n",
              "beauty             0.191120  \n",
              "clothes            0.368726  \n",
              "electronics        0.266409  \n",
              "outdoor + pets     0.173745  \n",
              "Totals             1.000000  \n",
              "exp_share          0.001931  "
            ],
            "text/html": [
              "\n",
              "  <div id=\"df-4c344011-9405-43ae-9dbd-e82dcf24b74a\">\n",
              "    <div class=\"colab-df-container\">\n",
              "      <div>\n",
              "<style scoped>\n",
              "    .dataframe tbody tr th:only-of-type {\n",
              "        vertical-align: middle;\n",
              "    }\n",
              "\n",
              "    .dataframe tbody tr th {\n",
              "        vertical-align: top;\n",
              "    }\n",
              "\n",
              "    .dataframe thead th {\n",
              "        text-align: right;\n",
              "    }\n",
              "</style>\n",
              "<table border=\"1\" class=\"dataframe\">\n",
              "  <thead>\n",
              "    <tr style=\"text-align: right;\">\n",
              "      <th>experience</th>\n",
              "      <th>0-1</th>\n",
              "      <th>1-3</th>\n",
              "      <th>3-5</th>\n",
              "      <th>5-</th>\n",
              "      <th>Totals</th>\n",
              "      <th>goods_share</th>\n",
              "    </tr>\n",
              "    <tr>\n",
              "      <th>goods</th>\n",
              "      <th></th>\n",
              "      <th></th>\n",
              "      <th></th>\n",
              "      <th></th>\n",
              "      <th></th>\n",
              "      <th></th>\n",
              "    </tr>\n",
              "  </thead>\n",
              "  <tbody>\n",
              "    <tr>\n",
              "      <th>beauty</th>\n",
              "      <td>28.00000</td>\n",
              "      <td>43.000000</td>\n",
              "      <td>13.000000</td>\n",
              "      <td>15.000000</td>\n",
              "      <td>99.0</td>\n",
              "      <td>0.191120</td>\n",
              "    </tr>\n",
              "    <tr>\n",
              "      <th>clothes</th>\n",
              "      <td>57.00000</td>\n",
              "      <td>78.000000</td>\n",
              "      <td>29.000000</td>\n",
              "      <td>27.000000</td>\n",
              "      <td>191.0</td>\n",
              "      <td>0.368726</td>\n",
              "    </tr>\n",
              "    <tr>\n",
              "      <th>electronics</th>\n",
              "      <td>44.00000</td>\n",
              "      <td>56.000000</td>\n",
              "      <td>19.000000</td>\n",
              "      <td>19.000000</td>\n",
              "      <td>138.0</td>\n",
              "      <td>0.266409</td>\n",
              "    </tr>\n",
              "    <tr>\n",
              "      <th>outdoor + pets</th>\n",
              "      <td>30.00000</td>\n",
              "      <td>38.000000</td>\n",
              "      <td>8.000000</td>\n",
              "      <td>14.000000</td>\n",
              "      <td>90.0</td>\n",
              "      <td>0.173745</td>\n",
              "    </tr>\n",
              "    <tr>\n",
              "      <th>Totals</th>\n",
              "      <td>159.00000</td>\n",
              "      <td>215.000000</td>\n",
              "      <td>69.000000</td>\n",
              "      <td>75.000000</td>\n",
              "      <td>518.0</td>\n",
              "      <td>1.000000</td>\n",
              "    </tr>\n",
              "    <tr>\n",
              "      <th>exp_share</th>\n",
              "      <td>0.30695</td>\n",
              "      <td>0.415058</td>\n",
              "      <td>0.133205</td>\n",
              "      <td>0.144788</td>\n",
              "      <td>1.0</td>\n",
              "      <td>0.001931</td>\n",
              "    </tr>\n",
              "  </tbody>\n",
              "</table>\n",
              "</div>\n",
              "      <button class=\"colab-df-convert\" onclick=\"convertToInteractive('df-4c344011-9405-43ae-9dbd-e82dcf24b74a')\"\n",
              "              title=\"Convert this dataframe to an interactive table.\"\n",
              "              style=\"display:none;\">\n",
              "        \n",
              "  <svg xmlns=\"http://www.w3.org/2000/svg\" height=\"24px\"viewBox=\"0 0 24 24\"\n",
              "       width=\"24px\">\n",
              "    <path d=\"M0 0h24v24H0V0z\" fill=\"none\"/>\n",
              "    <path d=\"M18.56 5.44l.94 2.06.94-2.06 2.06-.94-2.06-.94-.94-2.06-.94 2.06-2.06.94zm-11 1L8.5 8.5l.94-2.06 2.06-.94-2.06-.94L8.5 2.5l-.94 2.06-2.06.94zm10 10l.94 2.06.94-2.06 2.06-.94-2.06-.94-.94-2.06-.94 2.06-2.06.94z\"/><path d=\"M17.41 7.96l-1.37-1.37c-.4-.4-.92-.59-1.43-.59-.52 0-1.04.2-1.43.59L10.3 9.45l-7.72 7.72c-.78.78-.78 2.05 0 2.83L4 21.41c.39.39.9.59 1.41.59.51 0 1.02-.2 1.41-.59l7.78-7.78 2.81-2.81c.8-.78.8-2.07 0-2.86zM5.41 20L4 18.59l7.72-7.72 1.47 1.35L5.41 20z\"/>\n",
              "  </svg>\n",
              "      </button>\n",
              "      \n",
              "  <style>\n",
              "    .colab-df-container {\n",
              "      display:flex;\n",
              "      flex-wrap:wrap;\n",
              "      gap: 12px;\n",
              "    }\n",
              "\n",
              "    .colab-df-convert {\n",
              "      background-color: #E8F0FE;\n",
              "      border: none;\n",
              "      border-radius: 50%;\n",
              "      cursor: pointer;\n",
              "      display: none;\n",
              "      fill: #1967D2;\n",
              "      height: 32px;\n",
              "      padding: 0 0 0 0;\n",
              "      width: 32px;\n",
              "    }\n",
              "\n",
              "    .colab-df-convert:hover {\n",
              "      background-color: #E2EBFA;\n",
              "      box-shadow: 0px 1px 2px rgba(60, 64, 67, 0.3), 0px 1px 3px 1px rgba(60, 64, 67, 0.15);\n",
              "      fill: #174EA6;\n",
              "    }\n",
              "\n",
              "    [theme=dark] .colab-df-convert {\n",
              "      background-color: #3B4455;\n",
              "      fill: #D2E3FC;\n",
              "    }\n",
              "\n",
              "    [theme=dark] .colab-df-convert:hover {\n",
              "      background-color: #434B5C;\n",
              "      box-shadow: 0px 1px 3px 1px rgba(0, 0, 0, 0.15);\n",
              "      filter: drop-shadow(0px 1px 2px rgba(0, 0, 0, 0.3));\n",
              "      fill: #FFFFFF;\n",
              "    }\n",
              "  </style>\n",
              "\n",
              "      <script>\n",
              "        const buttonEl =\n",
              "          document.querySelector('#df-4c344011-9405-43ae-9dbd-e82dcf24b74a button.colab-df-convert');\n",
              "        buttonEl.style.display =\n",
              "          google.colab.kernel.accessAllowed ? 'block' : 'none';\n",
              "\n",
              "        async function convertToInteractive(key) {\n",
              "          const element = document.querySelector('#df-4c344011-9405-43ae-9dbd-e82dcf24b74a');\n",
              "          const dataTable =\n",
              "            await google.colab.kernel.invokeFunction('convertToInteractive',\n",
              "                                                     [key], {});\n",
              "          if (!dataTable) return;\n",
              "\n",
              "          const docLinkHtml = 'Like what you see? Visit the ' +\n",
              "            '<a target=\"_blank\" href=https://colab.research.google.com/notebooks/data_table.ipynb>data table notebook</a>'\n",
              "            + ' to learn more about interactive tables.';\n",
              "          element.innerHTML = '';\n",
              "          dataTable['output_type'] = 'display_data';\n",
              "          await google.colab.output.renderOutput(dataTable, element);\n",
              "          const docLink = document.createElement('div');\n",
              "          docLink.innerHTML = docLinkHtml;\n",
              "          element.appendChild(docLink);\n",
              "        }\n",
              "      </script>\n",
              "    </div>\n",
              "  </div>\n",
              "  "
            ]
          },
          "metadata": {},
          "execution_count": 13
        }
      ]
    },
    {
      "cell_type": "markdown",
      "source": [
        "Посчитаем ожидаемые значения, если переменные независимы:"
      ],
      "metadata": {
        "id": "ICsfsal4j_kw"
      }
    },
    {
      "cell_type": "code",
      "source": [
        "goods_joined = set(vendors['goods'])\n",
        "goods_joined.add('outdoor + pets')\n",
        "goods_joined.remove('outdoor')\n",
        "goods_joined.remove('pets')\n",
        "experience = set(vendors['experience'])\n",
        "data_joined_expected = data_joined\n",
        "data_joined_expected = data_joined_expected.drop(columns=['goods_share'])\n",
        "data_joined_expected = data_joined_expected.drop(['exp_share'])\n",
        "for i in goods_joined:\n",
        "  for j in experience:\n",
        "    data_joined_expected.loc[i,j] = data_joined.loc[i, 'goods_share'] * data_joined.loc['exp_share', j] * data_joined.loc['Totals', 'Totals']\n",
        "data_joined_expected"
      ],
      "metadata": {
        "colab": {
          "base_uri": "https://localhost:8080/",
          "height": 238
        },
        "id": "6VG31ZpVkVGd",
        "outputId": "79b4c12a-7f98-4c7c-a1f8-1bdacda87cde"
      },
      "execution_count": null,
      "outputs": [
        {
          "output_type": "execute_result",
          "data": {
            "text/plain": [
              "experience             0-1         1-3        3-5         5-  Totals\n",
              "goods                                                               \n",
              "beauty           30.388031   41.090734  13.187259  14.333977    99.0\n",
              "clothes          58.627413   79.276062  25.442085  27.654440   191.0\n",
              "electronics      42.359073   57.277992  18.382239  19.980695   138.0\n",
              "outdoor + pets   27.625483   37.355212  11.988417  13.030888    90.0\n",
              "Totals          159.000000  215.000000  69.000000  75.000000   518.0"
            ],
            "text/html": [
              "\n",
              "  <div id=\"df-79d7f334-8458-4821-ab46-256905751c6f\">\n",
              "    <div class=\"colab-df-container\">\n",
              "      <div>\n",
              "<style scoped>\n",
              "    .dataframe tbody tr th:only-of-type {\n",
              "        vertical-align: middle;\n",
              "    }\n",
              "\n",
              "    .dataframe tbody tr th {\n",
              "        vertical-align: top;\n",
              "    }\n",
              "\n",
              "    .dataframe thead th {\n",
              "        text-align: right;\n",
              "    }\n",
              "</style>\n",
              "<table border=\"1\" class=\"dataframe\">\n",
              "  <thead>\n",
              "    <tr style=\"text-align: right;\">\n",
              "      <th>experience</th>\n",
              "      <th>0-1</th>\n",
              "      <th>1-3</th>\n",
              "      <th>3-5</th>\n",
              "      <th>5-</th>\n",
              "      <th>Totals</th>\n",
              "    </tr>\n",
              "    <tr>\n",
              "      <th>goods</th>\n",
              "      <th></th>\n",
              "      <th></th>\n",
              "      <th></th>\n",
              "      <th></th>\n",
              "      <th></th>\n",
              "    </tr>\n",
              "  </thead>\n",
              "  <tbody>\n",
              "    <tr>\n",
              "      <th>beauty</th>\n",
              "      <td>30.388031</td>\n",
              "      <td>41.090734</td>\n",
              "      <td>13.187259</td>\n",
              "      <td>14.333977</td>\n",
              "      <td>99.0</td>\n",
              "    </tr>\n",
              "    <tr>\n",
              "      <th>clothes</th>\n",
              "      <td>58.627413</td>\n",
              "      <td>79.276062</td>\n",
              "      <td>25.442085</td>\n",
              "      <td>27.654440</td>\n",
              "      <td>191.0</td>\n",
              "    </tr>\n",
              "    <tr>\n",
              "      <th>electronics</th>\n",
              "      <td>42.359073</td>\n",
              "      <td>57.277992</td>\n",
              "      <td>18.382239</td>\n",
              "      <td>19.980695</td>\n",
              "      <td>138.0</td>\n",
              "    </tr>\n",
              "    <tr>\n",
              "      <th>outdoor + pets</th>\n",
              "      <td>27.625483</td>\n",
              "      <td>37.355212</td>\n",
              "      <td>11.988417</td>\n",
              "      <td>13.030888</td>\n",
              "      <td>90.0</td>\n",
              "    </tr>\n",
              "    <tr>\n",
              "      <th>Totals</th>\n",
              "      <td>159.000000</td>\n",
              "      <td>215.000000</td>\n",
              "      <td>69.000000</td>\n",
              "      <td>75.000000</td>\n",
              "      <td>518.0</td>\n",
              "    </tr>\n",
              "  </tbody>\n",
              "</table>\n",
              "</div>\n",
              "      <button class=\"colab-df-convert\" onclick=\"convertToInteractive('df-79d7f334-8458-4821-ab46-256905751c6f')\"\n",
              "              title=\"Convert this dataframe to an interactive table.\"\n",
              "              style=\"display:none;\">\n",
              "        \n",
              "  <svg xmlns=\"http://www.w3.org/2000/svg\" height=\"24px\"viewBox=\"0 0 24 24\"\n",
              "       width=\"24px\">\n",
              "    <path d=\"M0 0h24v24H0V0z\" fill=\"none\"/>\n",
              "    <path d=\"M18.56 5.44l.94 2.06.94-2.06 2.06-.94-2.06-.94-.94-2.06-.94 2.06-2.06.94zm-11 1L8.5 8.5l.94-2.06 2.06-.94-2.06-.94L8.5 2.5l-.94 2.06-2.06.94zm10 10l.94 2.06.94-2.06 2.06-.94-2.06-.94-.94-2.06-.94 2.06-2.06.94z\"/><path d=\"M17.41 7.96l-1.37-1.37c-.4-.4-.92-.59-1.43-.59-.52 0-1.04.2-1.43.59L10.3 9.45l-7.72 7.72c-.78.78-.78 2.05 0 2.83L4 21.41c.39.39.9.59 1.41.59.51 0 1.02-.2 1.41-.59l7.78-7.78 2.81-2.81c.8-.78.8-2.07 0-2.86zM5.41 20L4 18.59l7.72-7.72 1.47 1.35L5.41 20z\"/>\n",
              "  </svg>\n",
              "      </button>\n",
              "      \n",
              "  <style>\n",
              "    .colab-df-container {\n",
              "      display:flex;\n",
              "      flex-wrap:wrap;\n",
              "      gap: 12px;\n",
              "    }\n",
              "\n",
              "    .colab-df-convert {\n",
              "      background-color: #E8F0FE;\n",
              "      border: none;\n",
              "      border-radius: 50%;\n",
              "      cursor: pointer;\n",
              "      display: none;\n",
              "      fill: #1967D2;\n",
              "      height: 32px;\n",
              "      padding: 0 0 0 0;\n",
              "      width: 32px;\n",
              "    }\n",
              "\n",
              "    .colab-df-convert:hover {\n",
              "      background-color: #E2EBFA;\n",
              "      box-shadow: 0px 1px 2px rgba(60, 64, 67, 0.3), 0px 1px 3px 1px rgba(60, 64, 67, 0.15);\n",
              "      fill: #174EA6;\n",
              "    }\n",
              "\n",
              "    [theme=dark] .colab-df-convert {\n",
              "      background-color: #3B4455;\n",
              "      fill: #D2E3FC;\n",
              "    }\n",
              "\n",
              "    [theme=dark] .colab-df-convert:hover {\n",
              "      background-color: #434B5C;\n",
              "      box-shadow: 0px 1px 3px 1px rgba(0, 0, 0, 0.15);\n",
              "      filter: drop-shadow(0px 1px 2px rgba(0, 0, 0, 0.3));\n",
              "      fill: #FFFFFF;\n",
              "    }\n",
              "  </style>\n",
              "\n",
              "      <script>\n",
              "        const buttonEl =\n",
              "          document.querySelector('#df-79d7f334-8458-4821-ab46-256905751c6f button.colab-df-convert');\n",
              "        buttonEl.style.display =\n",
              "          google.colab.kernel.accessAllowed ? 'block' : 'none';\n",
              "\n",
              "        async function convertToInteractive(key) {\n",
              "          const element = document.querySelector('#df-79d7f334-8458-4821-ab46-256905751c6f');\n",
              "          const dataTable =\n",
              "            await google.colab.kernel.invokeFunction('convertToInteractive',\n",
              "                                                     [key], {});\n",
              "          if (!dataTable) return;\n",
              "\n",
              "          const docLinkHtml = 'Like what you see? Visit the ' +\n",
              "            '<a target=\"_blank\" href=https://colab.research.google.com/notebooks/data_table.ipynb>data table notebook</a>'\n",
              "            + ' to learn more about interactive tables.';\n",
              "          element.innerHTML = '';\n",
              "          dataTable['output_type'] = 'display_data';\n",
              "          await google.colab.output.renderOutput(dataTable, element);\n",
              "          const docLink = document.createElement('div');\n",
              "          docLink.innerHTML = docLinkHtml;\n",
              "          element.appendChild(docLink);\n",
              "        }\n",
              "      </script>\n",
              "    </div>\n",
              "  </div>\n",
              "  "
            ]
          },
          "metadata": {},
          "execution_count": 14
        }
      ]
    },
    {
      "cell_type": "markdown",
      "source": [
        "Посчитаем статистику x-квадрат:"
      ],
      "metadata": {
        "id": "W9N-jTCQlb5q"
      }
    },
    {
      "cell_type": "code",
      "source": [
        "sum_of_squares = 0\n",
        "\n",
        "for i in goods_joined:\n",
        "  for j in experience:\n",
        "    sum_of_squares += (data_joined.loc[i, j] - data_joined_expected.loc[i, j])**2\n",
        "\n",
        "x_squared = sum_of_squares / (len(goods_joined) * len(experience))\n",
        "x_squared"
      ],
      "metadata": {
        "colab": {
          "base_uri": "https://localhost:8080/"
        },
        "id": "uADIShDHlggG",
        "outputId": "174f85c0-8d6a-4207-f1b6-f8010f8c52c7"
      },
      "execution_count": null,
      "outputs": [
        {
          "output_type": "execute_result",
          "data": {
            "text/plain": [
              "3.4850330197820534"
            ]
          },
          "metadata": {},
          "execution_count": 15
        }
      ]
    },
    {
      "cell_type": "markdown",
      "source": [
        "Критическое значение для x-квадрат при уровне статистической значимости 5% и количеством степеней свободы 9 равно 15.507.\n",
        "\n",
        "Т.к. рассчитанная статистика меньше, чем критическое значение: 3.485 < 15.507, то H0 не отвергается --> нет оснований полагать, что переменные зависимы."
      ],
      "metadata": {
        "id": "QoQTbwAQlvIp"
      }
    },
    {
      "cell_type": "markdown",
      "source": [
        "Второй метод вычесления хи-квадрата"
      ],
      "metadata": {
        "id": "Qj_g8D0xYNen"
      }
    },
    {
      "cell_type": "code",
      "source": [
        "# таблица сопряженности\n",
        "table = pd.crosstab(vendors['goods'], vendors['experience'])\n",
        "print(table)\n",
        "\n",
        "#Найдем критерий хи-квадрат:\n",
        "import scipy.stats as stats\n",
        "from scipy.stats import chi2_contingency\n",
        "\n",
        "alpha = 0.05\n",
        "chi2, pvalue, dof, expected = stats.chi2_contingency(table)\n",
        "print(chi2, pvalue)\n",
        "\n",
        "if pvalue < alpha:\n",
        "    print(\"Отвергаем нулевую гипотезу\")\n",
        "else:\n",
        "    print(\"Не отвергаем нулевую гипотезу\")"
      ],
      "metadata": {
        "colab": {
          "base_uri": "https://localhost:8080/"
        },
        "id": "Wnyw2XfJXW4h",
        "outputId": "533fdca0-7c5a-4642-e4dc-3385e25090a4"
      },
      "execution_count": null,
      "outputs": [
        {
          "output_type": "stream",
          "name": "stdout",
          "text": [
            "experience   0-1  1-3  3-5  5-\n",
            "goods                         \n",
            "beauty        28   43   13  15\n",
            "clothes       57   78   29  27\n",
            "electronics   44   56   19  19\n",
            "outdoor       22   29    6  13\n",
            "pets           8    9    2   1\n",
            "5.086695539599919 0.9550203555576416\n",
            "Не отвергаем нулевую гипотезу\n"
          ]
        }
      ]
    },
    {
      "cell_type": "markdown",
      "source": [
        "#Задание 4 (дополнительное)\n",
        "\n",
        "Постройте 90%-е доверительные интервалы по выборкам из задания 1 для\n",
        "среднего времени обработки заказа продавцами, использующими и не\n",
        "использующими интерактивный дашборд."
      ],
      "metadata": {
        "id": "eNKGKtGgECZJ"
      }
    },
    {
      "cell_type": "markdown",
      "source": [
        "Формула для нахождения доверительного интервала:\n",
        "\n",
        "x_sample_mean - SE * T < x < x_sample_mean + SE * T\n",
        "\n",
        "где SE - estimated standard error (S/n**0.5),\n",
        "\n",
        "T - значение t-статистики с (n-1) степенями свободы для alpha/2"
      ],
      "metadata": {
        "id": "-z-a3XyBEgC8"
      }
    },
    {
      "cell_type": "code",
      "source": [
        "control_mean = control['time'].mean()\n",
        "test_mean = test['time'].mean()\n",
        "n_control = len(control['time'])\n",
        "n_test = len(test['time'])\n",
        "print('Выборочное среднее дя контрольной выборки = ', control_mean)\n",
        "print('Выборочное среднее дя тестовой выборки = ', test_mean)\n",
        "print('N для контрольной выборки = ', n_control)\n",
        "print('N для тестовой выборки = ', n_control)\n",
        "\n",
        "control['sq_sum'] = (control['time'] - control_mean)**2\n",
        "test['sq_sum'] = (test['time'] - test_mean)**2\n",
        "\n",
        "control_sq_sum = control['sq_sum'].sum()\n",
        "test_sq_sum = test['sq_sum'].sum()\n",
        "\n",
        "S_control = np.sqrt(control_sq_sum/(n_control-1))\n",
        "S_test = np.sqrt(test_sq_sum/(n_test-1))\n",
        "\n",
        "SE_control = S_control / np.sqrt(n_control)\n",
        "SE_test = S_test / np.sqrt(n_test)\n",
        "\n",
        "T = 1.645"
      ],
      "metadata": {
        "colab": {
          "base_uri": "https://localhost:8080/"
        },
        "id": "G4cVn8XaEJn0",
        "outputId": "c00f6170-7a3e-4b1a-9a65-c45115c8dfea"
      },
      "execution_count": null,
      "outputs": [
        {
          "output_type": "stream",
          "name": "stdout",
          "text": [
            "Выборочное среднее дя контрольной выборки =  29.502828427853554\n",
            "Выборочное среднее дя тестовой выборки =  18.009160086145013\n",
            "N для контрольной выборки =  1393\n",
            "N для тестовой выборки =  1393\n"
          ]
        }
      ]
    },
    {
      "cell_type": "code",
      "source": [
        "left_value_control = control_mean - SE_control * T\n",
        "right_value_control = control_mean + SE_control * T\n",
        "print(f'90.0% доверительный интервал для контрольной выборки = ({left_value_control:.5}, {right_value_control:.5})')"
      ],
      "metadata": {
        "colab": {
          "base_uri": "https://localhost:8080/"
        },
        "id": "-IYRHP_fLT-Y",
        "outputId": "89f5dfb8-d625-4e2d-b81d-1cd426d57c59"
      },
      "execution_count": null,
      "outputs": [
        {
          "output_type": "stream",
          "name": "stdout",
          "text": [
            "90.0% доверительный интервал для контрольной выборки = (29.107, 29.899)\n"
          ]
        }
      ]
    },
    {
      "cell_type": "code",
      "source": [
        "left_value_test = test_mean - SE_test * T\n",
        "right_value_test = test_mean + SE_test * T\n",
        "print(f'90.0% доверительный интервал для тестовой выборки = ({left_value_test:.5}, {right_value_test:.5})')"
      ],
      "metadata": {
        "colab": {
          "base_uri": "https://localhost:8080/"
        },
        "id": "Xb1j9EGGMYzX",
        "outputId": "fef65d1d-ae63-4f33-ceb8-751b380c0ba7"
      },
      "execution_count": null,
      "outputs": [
        {
          "output_type": "stream",
          "name": "stdout",
          "text": [
            "90.0% доверительный интервал для тестовой выборки = (17.751, 18.267)\n"
          ]
        }
      ]
    },
    {
      "cell_type": "code",
      "source": [
        "\n",
        "# доверительные интервалы\n",
        "confidence = 0.90\n",
        "control_interval = stats.t.interval(confidence, len(control)-1, loc=control.mean(), scale=stats.sem(control))\n",
        "test_interval = stats.t.interval(confidence, len(test)-1, loc=test.mean(), scale=stats.sem(test))\n",
        "print(\"Доверительный интервал для контрольной группы:\", control_interval)\n",
        "print(\"Доверительный интервал для тестовой группы:\", test_interval)"
      ],
      "metadata": {
        "colab": {
          "base_uri": "https://localhost:8080/"
        },
        "id": "XovgPhtSZxye",
        "outputId": "ecbc4655-73ef-46bc-ab15-4ed60bcaee5f"
      },
      "execution_count": null,
      "outputs": [
        {
          "output_type": "stream",
          "name": "stdout",
          "text": [
            "Доверительный интервал для контрольной группы: (array([678.25985587,  29.10681334,  75.27963703]), array([713.74014413,  29.89884351,  85.88135257]))\n",
            "Доверительный интервал для тестовой группы: (array([678.25985587,  17.75082781,  31.7533183 ]), array([713.74014413,  18.26749237,  36.82610441]))\n"
          ]
        }
      ]
    }
  ]
}